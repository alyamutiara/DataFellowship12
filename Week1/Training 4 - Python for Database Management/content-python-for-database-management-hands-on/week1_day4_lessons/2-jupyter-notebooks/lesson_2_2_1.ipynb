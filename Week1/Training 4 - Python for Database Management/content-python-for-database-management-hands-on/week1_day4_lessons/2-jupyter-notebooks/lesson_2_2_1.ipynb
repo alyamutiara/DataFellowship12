{
 "cells": [
  {
   "cell_type": "markdown",
   "metadata": {},
   "source": [
    "# pandas Dataframes - Examining Data\n",
    "\n",
    "## lesson_2_2_1"
   ]
  },
  {
   "cell_type": "markdown",
   "metadata": {},
   "source": [
    "### Import packages"
   ]
  },
  {
   "cell_type": "code",
   "execution_count": null,
   "metadata": {},
   "outputs": [],
   "source": [
    "import pandas as pd"
   ]
  },
  {
   "cell_type": "markdown",
   "metadata": {},
   "source": [
    "### Creating a Basic Dataframe From JSON"
   ]
  },
  {
   "cell_type": "code",
   "execution_count": null,
   "metadata": {},
   "outputs": [],
   "source": [
    "# define the data as a list\n",
    "data = [\n",
    "    (\"Dexter\",\"Johnsons\",\"dog\",\"shiba inu\",\"red sesame\",1.5,35,\"m\",False,\"both\",True),\n",
    "    (\"Alfred\",\"Johnsons\",\"cat\",\"mix\",\"tuxedo\",4,12,\"m\",True,\"indoor\",True),\n",
    "    (\"Petra\",\"Smith\",\"cat\",\"ragdoll\",\"calico\",6,None,\"f\",False,\"both\",True),\n",
    "    (\"Ava\",\"Smith\",\"dog\",\"mix\",\"blk/wht\",12,32,\"f\",True,\"both\",False),\n",
    "    (\"Schroder\",\"Brown\",\"cat\",\"mix\",\"orange\",13,15,\"m\",False,\"indoor\",True),\n",
    "    (\"Blackbeard\",\"Brown\",\"bird\",\"parrot\",\"multi\",5,3,\"f\",False,\"indoor\",),\n",
    "]\n",
    "\n",
    "# define the labels\n",
    "labels = [\"name\",\"owner\",\"type\",\"breed\",\"color\",\"age\",\"weight\",\"gender\",\"health issues\",\"indoor/outboor\",\"vaccinated\"]\n",
    "\n",
    "# create dataframe\n",
    "vet_records = pd.DataFrame.from_records(data, columns=labels)"
   ]
  },
  {
   "cell_type": "markdown",
   "metadata": {},
   "source": [
    "### Examining the Data in a Dataframe"
   ]
  },
  {
   "cell_type": "markdown",
   "metadata": {},
   "source": [
    "There are several different ways to examine data using a pandas dataframe.  Two are `.head()` and `.tail()`. These show the first five and the last five rows of the dataframe respectively."
   ]
  },
  {
   "cell_type": "code",
   "execution_count": null,
   "metadata": {},
   "outputs": [],
   "source": [
    " # displays the first five rows in the dataframe\n",
    "vet_records.head() "
   ]
  },
  {
   "cell_type": "code",
   "execution_count": null,
   "metadata": {},
   "outputs": [],
   "source": [
    " # displays the first five rows in the dataframe\n",
    "vet_records.tail()"
   ]
  },
  {
   "cell_type": "code",
   "execution_count": null,
   "metadata": {},
   "outputs": [],
   "source": [
    "# displays all the records of the datframe\n",
    "vet_records"
   ]
  },
  {
   "cell_type": "markdown",
   "metadata": {},
   "source": [
    "#### `.dtypes` show you the types of data in the dataframe by column.  If the `dtype` is `object`, this indicates that pandas is seeing that data as more than one type."
   ]
  },
  {
   "cell_type": "code",
   "execution_count": null,
   "metadata": {},
   "outputs": [],
   "source": [
    "# object means a mixed type column\n",
    "vet_records.dtypes"
   ]
  },
  {
   "cell_type": "markdown",
   "metadata": {},
   "source": [
    "Notice all the `string` columns are listed as `object`.  This is because a `string` type takes a maximum length argument, so when importing from CSV, they are imported as a `object` so they can be variable length."
   ]
  },
  {
   "cell_type": "markdown",
   "metadata": {},
   "source": [
    "#### `.describe` shows statitical operations on columns that these operations can be performed on."
   ]
  },
  {
   "cell_type": "code",
   "execution_count": null,
   "metadata": {},
   "outputs": [],
   "source": [
    "# `.describe` shows statistical information on columns that the operations can be performed on\n",
    "vet_records.describe()"
   ]
  },
  {
   "cell_type": "code",
   "execution_count": null,
   "metadata": {},
   "outputs": [],
   "source": [
    "# to show all columns in `.describe` add `include=\"all\"`\n",
    "vet_records.describe(include=\"all\")"
   ]
  },
  {
   "cell_type": "markdown",
   "metadata": {},
   "source": [
    "#### `.at` allows the user to change the value of a specific cell"
   ]
  },
  {
   "cell_type": "code",
   "execution_count": null,
   "metadata": {},
   "outputs": [],
   "source": [
    "# change a specific value with `.at`\n",
    "vet_records.at[0, \"weight\"] = 34.7 "
   ]
  },
  {
   "cell_type": "code",
   "execution_count": null,
   "metadata": {},
   "outputs": [],
   "source": [
    "# notice the weight was changed for Dexter\n",
    "vet_records"
   ]
  },
  {
   "cell_type": "markdown",
   "metadata": {},
   "source": [
    "####  `.assign` is used to add another column of data"
   ]
  },
  {
   "cell_type": "code",
   "execution_count": null,
   "metadata": {},
   "outputs": [],
   "source": [
    "# we are going to add the ratio age:weight as a column to the dataframe\n",
    "# notice that this method iterates throught the dataframe\n",
    "vet_records = vet_records.assign(age_weight=(vet_records['age']/vet_records['weight']))"
   ]
  },
  {
   "cell_type": "code",
   "execution_count": null,
   "metadata": {},
   "outputs": [],
   "source": [
    "# review the new dataframe\n",
    "vet_records"
   ]
  }
 ],
 "metadata": {
  "kernelspec": {
   "display_name": "Python 3",
   "language": "python",
   "name": "python3"
  },
  "language_info": {
   "codemirror_mode": {
    "name": "ipython",
    "version": 3
   },
   "file_extension": ".py",
   "mimetype": "text/x-python",
   "name": "python",
   "nbconvert_exporter": "python",
   "pygments_lexer": "ipython3",
   "version": "3.7.6"
  }
 },
 "nbformat": 4,
 "nbformat_minor": 4
}
