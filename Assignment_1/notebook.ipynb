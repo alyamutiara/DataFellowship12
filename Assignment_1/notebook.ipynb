{
 "cells": [
  {
   "cell_type": "markdown",
   "metadata": {},
   "source": [
    "# [Alya MF] Week 1 - Assignment 1"
   ]
  },
  {
   "cell_type": "markdown",
   "metadata": {},
   "source": [
    "## Load data to the dockerized PostgreSQL in local"
   ]
  },
  {
   "cell_type": "code",
   "execution_count": 13,
   "metadata": {},
   "outputs": [],
   "source": [
    "import pandas as pd\n",
    "import psycopg2\n",
    "\n",
    "CONNECT_DB = \"host=localhost port=5432 dbname=banksim_db user=banksim password=banksim\""
   ]
  },
  {
   "cell_type": "markdown",
   "metadata": {},
   "source": [
    "#### Create customers and transactions table"
   ]
  },
  {
   "cell_type": "code",
   "execution_count": 14,
   "metadata": {},
   "outputs": [],
   "source": [
    "create_table_customers = '''\n",
    "    DROP TABLE IF EXISTS \"customers\";\n",
    "    CREATE TABLE customers (\n",
    "        step INT,\n",
    "        customer VARCHAR(255),\n",
    "        age VARCHAR(5),\n",
    "        gender VARCHAR(3),\n",
    "        zipcodeOri VARCHAR(7),\n",
    "        merchant VARCHAR(255),\n",
    "        zipMerchant VARCHAR(10),\n",
    "        category VARCHAR(255),\n",
    "        amount NUMERIC,\n",
    "        fraud BOOLEAN\n",
    "    );\n",
    "'''"
   ]
  },
  {
   "cell_type": "code",
   "execution_count": 15,
   "metadata": {},
   "outputs": [
    {
     "name": "stdout",
     "output_type": "stream",
     "text": [
      "PostgreSQL connection is closed\n",
      "Records:\n",
      " None\n"
     ]
    }
   ],
   "source": [
    "try:\n",
    "    # Create connection to banksim_db\n",
    "    cxn = psycopg2.connect(CONNECT_DB)\n",
    "\n",
    "    # Create a cursor to db\n",
    "    cur = cxn.cursor()\n",
    "\n",
    "    # Send SQL query to request\n",
    "    cur.execute(create_table_customers)\n",
    "    records = cxn.commit()\n",
    "\n",
    "except (Exception, psycopg2.Error) as error :\n",
    "    print(\"Error while connecting to PostgreSQL\", error)\n",
    "\n",
    "finally:\n",
    "    # Closing database connection\n",
    "    if(cxn):\n",
    "        cur.close()\n",
    "        cxn.close()\n",
    "        print(\"PostgreSQL connection is closed\")\n",
    "\n",
    "print(f'Records:\\n {records}')"
   ]
  },
  {
   "cell_type": "code",
   "execution_count": 16,
   "metadata": {},
   "outputs": [],
   "source": [
    "create_table_transactions = '''\n",
    "    DROP TABLE IF EXISTS \"transactions\";\n",
    "    CREATE TABLE transactions (\n",
    "        source VARCHAR(255),\n",
    "        target VARCHAR(255),\n",
    "        weight NUMERIC,\n",
    "        typeTrans VARCHAR(255),\n",
    "        fraud BOOLEAN\n",
    "    );\n",
    "'''"
   ]
  },
  {
   "cell_type": "code",
   "execution_count": 17,
   "metadata": {},
   "outputs": [
    {
     "name": "stdout",
     "output_type": "stream",
     "text": [
      "PostgreSQL connection is closed\n",
      "Records:\n",
      " None\n"
     ]
    }
   ],
   "source": [
    "try:\n",
    "    # Create connection to banksim_db\n",
    "    cxn = psycopg2.connect(CONNECT_DB)\n",
    "\n",
    "    # Create a cursor to db\n",
    "    cur = cxn.cursor()\n",
    "\n",
    "    # Send SQL query to request\n",
    "    cur.execute(create_table_transactions)\n",
    "    records = cxn.commit()\n",
    "\n",
    "except (Exception, psycopg2.Error) as error :\n",
    "    print(\"Error while connecting to PostgreSQL\", error)\n",
    "\n",
    "finally:\n",
    "    # Closing database connection\n",
    "    if(cxn):\n",
    "        cur.close()\n",
    "        cxn.close()\n",
    "        print(\"PostgreSQL connection is closed\")\n",
    "\n",
    "print(f'Records:\\n {records}')"
   ]
  },
  {
   "cell_type": "markdown",
   "metadata": {},
   "source": [
    "#### Add Data to the Table"
   ]
  },
  {
   "cell_type": "code",
   "execution_count": 18,
   "metadata": {},
   "outputs": [
    {
     "name": "stdout",
     "output_type": "stream",
     "text": [
      "PostgreSQL connection is closed\n",
      "customers table populated\n"
     ]
    }
   ],
   "source": [
    "try:\n",
    "    # Create connection to banksim_db\n",
    "    cxn = psycopg2.connect(CONNECT_DB)\n",
    "\n",
    "    # Create a cursor to db\n",
    "    cur = cxn.cursor()\n",
    "\n",
    "    with open('./customers_data.csv', 'r') as c:\n",
    "        # Skip first row due to header row\n",
    "        next(c)\n",
    "        cur.copy_from(c, 'customers', sep=',')\n",
    "        cxn.commit()\n",
    "\n",
    "except (Exception, psycopg2.Error) as error:\n",
    "    print(\"Error while connecting to PostgreSQL\", error)\n",
    "\n",
    "finally:\n",
    "    # Closing database connection\n",
    "    if (cxn):\n",
    "        cur.close()\n",
    "        cxn.close()\n",
    "        print(\"PostgreSQL connection is closed\")\n",
    "        print(\"customers table populated\")"
   ]
  },
  {
   "cell_type": "code",
   "execution_count": 19,
   "metadata": {},
   "outputs": [
    {
     "name": "stdout",
     "output_type": "stream",
     "text": [
      "PostgreSQL connection is closed\n",
      "transactions table populated\n"
     ]
    }
   ],
   "source": [
    "try:\n",
    "    # Create connection to banksim_db\n",
    "    cxn = psycopg2.connect(CONNECT_DB)\n",
    "\n",
    "    # Create a cursor to db\n",
    "    cur = cxn.cursor()\n",
    "\n",
    "    with open('./transactions_data.csv', 'r') as c:\n",
    "        # Skip first row due to header row\n",
    "        next(c)\n",
    "        cur.copy_from(c, 'transactions', sep=',')\n",
    "        cxn.commit()\n",
    "\n",
    "except (Exception, psycopg2.Error) as error:\n",
    "    print(\"Error while connecting to PostgreSQL\", error)\n",
    "\n",
    "finally:\n",
    "    # Closing database connection\n",
    "    if (cxn):\n",
    "        cur.close()\n",
    "        cxn.close()\n",
    "        print(\"PostgreSQL connection is closed\")\n",
    "        print(\"transactions table populated\")"
   ]
  },
  {
   "cell_type": "markdown",
   "metadata": {},
   "source": [
    "### Access Database"
   ]
  },
  {
   "cell_type": "code",
   "execution_count": 20,
   "metadata": {},
   "outputs": [],
   "source": [
    "def db_server_fetch(sql_query):\n",
    "    try:\n",
    "        # Create connection to DB\n",
    "        cxn = psycopg2.connect(CONNECT_DB)\n",
    "\n",
    "        # Create a cursor to DB\n",
    "        cur = cxn.cursor()\n",
    "\n",
    "        # Send SQL query to request\n",
    "        cur.execute(sql_query)\n",
    "        records = cur.fetchall()\n",
    "\n",
    "    except(Exception, psycopg2.Error) as error:\n",
    "        print(\"Error while connecting to PostgreSQL\", error)\n",
    "    \n",
    "    finally:\n",
    "        # Closing database connection\n",
    "        if(cxn):\n",
    "            cur.close()\n",
    "            cxn.close()\n",
    "            print(\"PostgreSQL connection is closed\")\n",
    "        return records"
   ]
  },
  {
   "cell_type": "code",
   "execution_count": 22,
   "metadata": {},
   "outputs": [
    {
     "name": "stdout",
     "output_type": "stream",
     "text": [
      "PostgreSQL connection is closed\n",
      "[(0, \"'C1093826151'\", \"'4'\", \"'M'\", \"'28007'\", \"'M348934600'\", \"'28007'\", \"'es_transportation'\", Decimal('4.55'), False), (0, \"'C352968107'\", \"'2'\", \"'M'\", \"'28007'\", \"'M348934600'\", \"'28007'\", \"'es_transportation'\", Decimal('39.68'), False), (0, \"'C2054744914'\", \"'4'\", \"'F'\", \"'28007'\", \"'M1823072687'\", \"'28007'\", \"'es_transportation'\", Decimal('26.89'), False), (0, \"'C1760612790'\", \"'3'\", \"'M'\", \"'28007'\", \"'M348934600'\", \"'28007'\", \"'es_transportation'\", Decimal('17.25'), False), (0, \"'C757503768'\", \"'5'\", \"'M'\", \"'28007'\", \"'M348934600'\", \"'28007'\", \"'es_transportation'\", Decimal('35.72'), False)]\n"
     ]
    }
   ],
   "source": [
    "select_query = '''\n",
    "    SELECT * FROM customers LIMIT 5;\n",
    "'''\n",
    "\n",
    "records = db_server_fetch(select_query)\n",
    "print(records)"
   ]
  },
  {
   "cell_type": "markdown",
   "metadata": {},
   "source": [
    "#### Access a SQL Database with Pandas"
   ]
  },
  {
   "cell_type": "code",
   "execution_count": 23,
   "metadata": {},
   "outputs": [],
   "source": [
    "def pandas_db_server_fetch(sql_query):\n",
    "    try:\n",
    "        # Create connection to DB\n",
    "        cxn = psycopg2.connect(CONNECT_DB)\n",
    "\n",
    "        # Send SQL query to request and create dataframe\n",
    "        df = pd.read_sql(sql_query, cxn)\n",
    "\n",
    "    except(Exception, psycopg2.Error) as error:\n",
    "        print(\"Error while connecting to PostgreSQL\", error)\n",
    "\n",
    "    finally:\n",
    "        # Closing database connection\n",
    "        if(cxn):\n",
    "            cxn.close()\n",
    "            print(\"PostgreSQL connection is closed\")\n",
    "        return df"
   ]
  },
  {
   "cell_type": "code",
   "execution_count": 25,
   "metadata": {},
   "outputs": [
    {
     "name": "stderr",
     "output_type": "stream",
     "text": [
      "/var/folders/g4/h69xmlc14xnfwwjc9t_q574w0000gn/T/ipykernel_91218/105032297.py:7: UserWarning: pandas only supports SQLAlchemy connectable (engine/connection) or database string URI or sqlite3 DBAPI2 connection. Other DBAPI2 objects are not tested. Please consider using SQLAlchemy.\n",
      "  df = pd.read_sql(sql_query, cxn)\n"
     ]
    },
    {
     "name": "stdout",
     "output_type": "stream",
     "text": [
      "PostgreSQL connection is closed\n"
     ]
    },
    {
     "data": {
      "text/html": [
       "<div>\n",
       "<style scoped>\n",
       "    .dataframe tbody tr th:only-of-type {\n",
       "        vertical-align: middle;\n",
       "    }\n",
       "\n",
       "    .dataframe tbody tr th {\n",
       "        vertical-align: top;\n",
       "    }\n",
       "\n",
       "    .dataframe thead th {\n",
       "        text-align: right;\n",
       "    }\n",
       "</style>\n",
       "<table border=\"1\" class=\"dataframe\">\n",
       "  <thead>\n",
       "    <tr style=\"text-align: right;\">\n",
       "      <th></th>\n",
       "      <th>step</th>\n",
       "      <th>customer</th>\n",
       "      <th>age</th>\n",
       "      <th>gender</th>\n",
       "      <th>zipcodeori</th>\n",
       "      <th>merchant</th>\n",
       "      <th>zipmerchant</th>\n",
       "      <th>category</th>\n",
       "      <th>amount</th>\n",
       "      <th>fraud</th>\n",
       "    </tr>\n",
       "  </thead>\n",
       "  <tbody>\n",
       "    <tr>\n",
       "      <th>0</th>\n",
       "      <td>0</td>\n",
       "      <td>'C1093826151'</td>\n",
       "      <td>'4'</td>\n",
       "      <td>'M'</td>\n",
       "      <td>'28007'</td>\n",
       "      <td>'M348934600'</td>\n",
       "      <td>'28007'</td>\n",
       "      <td>'es_transportation'</td>\n",
       "      <td>4.55</td>\n",
       "      <td>False</td>\n",
       "    </tr>\n",
       "    <tr>\n",
       "      <th>1</th>\n",
       "      <td>0</td>\n",
       "      <td>'C352968107'</td>\n",
       "      <td>'2'</td>\n",
       "      <td>'M'</td>\n",
       "      <td>'28007'</td>\n",
       "      <td>'M348934600'</td>\n",
       "      <td>'28007'</td>\n",
       "      <td>'es_transportation'</td>\n",
       "      <td>39.68</td>\n",
       "      <td>False</td>\n",
       "    </tr>\n",
       "    <tr>\n",
       "      <th>2</th>\n",
       "      <td>0</td>\n",
       "      <td>'C2054744914'</td>\n",
       "      <td>'4'</td>\n",
       "      <td>'F'</td>\n",
       "      <td>'28007'</td>\n",
       "      <td>'M1823072687'</td>\n",
       "      <td>'28007'</td>\n",
       "      <td>'es_transportation'</td>\n",
       "      <td>26.89</td>\n",
       "      <td>False</td>\n",
       "    </tr>\n",
       "    <tr>\n",
       "      <th>3</th>\n",
       "      <td>0</td>\n",
       "      <td>'C1760612790'</td>\n",
       "      <td>'3'</td>\n",
       "      <td>'M'</td>\n",
       "      <td>'28007'</td>\n",
       "      <td>'M348934600'</td>\n",
       "      <td>'28007'</td>\n",
       "      <td>'es_transportation'</td>\n",
       "      <td>17.25</td>\n",
       "      <td>False</td>\n",
       "    </tr>\n",
       "    <tr>\n",
       "      <th>4</th>\n",
       "      <td>0</td>\n",
       "      <td>'C757503768'</td>\n",
       "      <td>'5'</td>\n",
       "      <td>'M'</td>\n",
       "      <td>'28007'</td>\n",
       "      <td>'M348934600'</td>\n",
       "      <td>'28007'</td>\n",
       "      <td>'es_transportation'</td>\n",
       "      <td>35.72</td>\n",
       "      <td>False</td>\n",
       "    </tr>\n",
       "  </tbody>\n",
       "</table>\n",
       "</div>"
      ],
      "text/plain": [
       "   step       customer  age gender zipcodeori       merchant zipmerchant  \\\n",
       "0     0  'C1093826151'  '4'    'M'    '28007'   'M348934600'     '28007'   \n",
       "1     0   'C352968107'  '2'    'M'    '28007'   'M348934600'     '28007'   \n",
       "2     0  'C2054744914'  '4'    'F'    '28007'  'M1823072687'     '28007'   \n",
       "3     0  'C1760612790'  '3'    'M'    '28007'   'M348934600'     '28007'   \n",
       "4     0   'C757503768'  '5'    'M'    '28007'   'M348934600'     '28007'   \n",
       "\n",
       "              category  amount  fraud  \n",
       "0  'es_transportation'    4.55  False  \n",
       "1  'es_transportation'   39.68  False  \n",
       "2  'es_transportation'   26.89  False  \n",
       "3  'es_transportation'   17.25  False  \n",
       "4  'es_transportation'   35.72  False  "
      ]
     },
     "execution_count": 25,
     "metadata": {},
     "output_type": "execute_result"
    }
   ],
   "source": [
    "select_query = '''\n",
    "    SELECT * FROM customers;\n",
    "'''\n",
    "\n",
    "customers_df = pandas_db_server_fetch(select_query)\n",
    "customers_df.head()"
   ]
  },
  {
   "cell_type": "code",
   "execution_count": 26,
   "metadata": {},
   "outputs": [
    {
     "name": "stderr",
     "output_type": "stream",
     "text": [
      "/var/folders/g4/h69xmlc14xnfwwjc9t_q574w0000gn/T/ipykernel_91218/105032297.py:7: UserWarning: pandas only supports SQLAlchemy connectable (engine/connection) or database string URI or sqlite3 DBAPI2 connection. Other DBAPI2 objects are not tested. Please consider using SQLAlchemy.\n",
      "  df = pd.read_sql(sql_query, cxn)\n"
     ]
    },
    {
     "name": "stdout",
     "output_type": "stream",
     "text": [
      "PostgreSQL connection is closed\n"
     ]
    },
    {
     "data": {
      "text/html": [
       "<div>\n",
       "<style scoped>\n",
       "    .dataframe tbody tr th:only-of-type {\n",
       "        vertical-align: middle;\n",
       "    }\n",
       "\n",
       "    .dataframe tbody tr th {\n",
       "        vertical-align: top;\n",
       "    }\n",
       "\n",
       "    .dataframe thead th {\n",
       "        text-align: right;\n",
       "    }\n",
       "</style>\n",
       "<table border=\"1\" class=\"dataframe\">\n",
       "  <thead>\n",
       "    <tr style=\"text-align: right;\">\n",
       "      <th></th>\n",
       "      <th>source</th>\n",
       "      <th>target</th>\n",
       "      <th>weight</th>\n",
       "      <th>typetrans</th>\n",
       "      <th>fraud</th>\n",
       "    </tr>\n",
       "  </thead>\n",
       "  <tbody>\n",
       "    <tr>\n",
       "      <th>0</th>\n",
       "      <td>'C1093826151'</td>\n",
       "      <td>'M348934600'</td>\n",
       "      <td>4.55</td>\n",
       "      <td>'es_transportation'</td>\n",
       "      <td>False</td>\n",
       "    </tr>\n",
       "    <tr>\n",
       "      <th>1</th>\n",
       "      <td>'C352968107'</td>\n",
       "      <td>'M348934600'</td>\n",
       "      <td>39.68</td>\n",
       "      <td>'es_transportation'</td>\n",
       "      <td>False</td>\n",
       "    </tr>\n",
       "    <tr>\n",
       "      <th>2</th>\n",
       "      <td>'C2054744914'</td>\n",
       "      <td>'M1823072687'</td>\n",
       "      <td>26.89</td>\n",
       "      <td>'es_transportation'</td>\n",
       "      <td>False</td>\n",
       "    </tr>\n",
       "    <tr>\n",
       "      <th>3</th>\n",
       "      <td>'C1760612790'</td>\n",
       "      <td>'M348934600'</td>\n",
       "      <td>17.25</td>\n",
       "      <td>'es_transportation'</td>\n",
       "      <td>False</td>\n",
       "    </tr>\n",
       "    <tr>\n",
       "      <th>4</th>\n",
       "      <td>'C757503768'</td>\n",
       "      <td>'M348934600'</td>\n",
       "      <td>35.72</td>\n",
       "      <td>'es_transportation'</td>\n",
       "      <td>False</td>\n",
       "    </tr>\n",
       "  </tbody>\n",
       "</table>\n",
       "</div>"
      ],
      "text/plain": [
       "          source         target  weight            typetrans  fraud\n",
       "0  'C1093826151'   'M348934600'    4.55  'es_transportation'  False\n",
       "1   'C352968107'   'M348934600'   39.68  'es_transportation'  False\n",
       "2  'C2054744914'  'M1823072687'   26.89  'es_transportation'  False\n",
       "3  'C1760612790'   'M348934600'   17.25  'es_transportation'  False\n",
       "4   'C757503768'   'M348934600'   35.72  'es_transportation'  False"
      ]
     },
     "execution_count": 26,
     "metadata": {},
     "output_type": "execute_result"
    }
   ],
   "source": [
    "transactions_df = pandas_db_server_fetch('''SELECT * FROM transactions;''')\n",
    "transactions_df.head()"
   ]
  },
  {
   "cell_type": "markdown",
   "metadata": {},
   "source": [
    "## Data Transformation"
   ]
  },
  {
   "cell_type": "markdown",
   "metadata": {},
   "source": [
    "### Transformation for `customers` table"
   ]
  },
  {
   "cell_type": "markdown",
   "metadata": {},
   "source": [
    "#### Remove quote sign from data"
   ]
  },
  {
   "cell_type": "markdown",
   "metadata": {},
   "source": [
    "As we can see by querying the database, each data value has single quotes in it so the data type become `object` instead of `integer` for some columns. We need to remove the single quote to ensure the data has the correct type (table schema)."
   ]
  },
  {
   "cell_type": "code",
   "execution_count": 31,
   "metadata": {},
   "outputs": [
    {
     "name": "stderr",
     "output_type": "stream",
     "text": [
      "/var/folders/g4/h69xmlc14xnfwwjc9t_q574w0000gn/T/ipykernel_91218/105032297.py:7: UserWarning: pandas only supports SQLAlchemy connectable (engine/connection) or database string URI or sqlite3 DBAPI2 connection. Other DBAPI2 objects are not tested. Please consider using SQLAlchemy.\n",
      "  df = pd.read_sql(sql_query, cxn)\n"
     ]
    },
    {
     "name": "stdout",
     "output_type": "stream",
     "text": [
      "PostgreSQL connection is closed\n"
     ]
    },
    {
     "data": {
      "text/html": [
       "<div>\n",
       "<style scoped>\n",
       "    .dataframe tbody tr th:only-of-type {\n",
       "        vertical-align: middle;\n",
       "    }\n",
       "\n",
       "    .dataframe tbody tr th {\n",
       "        vertical-align: top;\n",
       "    }\n",
       "\n",
       "    .dataframe thead th {\n",
       "        text-align: right;\n",
       "    }\n",
       "</style>\n",
       "<table border=\"1\" class=\"dataframe\">\n",
       "  <thead>\n",
       "    <tr style=\"text-align: right;\">\n",
       "      <th></th>\n",
       "      <th>step</th>\n",
       "      <th>customer</th>\n",
       "      <th>age</th>\n",
       "      <th>gender</th>\n",
       "      <th>zipcodeori</th>\n",
       "      <th>merchant</th>\n",
       "      <th>zipmerchant</th>\n",
       "      <th>category</th>\n",
       "      <th>amount</th>\n",
       "      <th>fraud</th>\n",
       "    </tr>\n",
       "  </thead>\n",
       "  <tbody>\n",
       "    <tr>\n",
       "      <th>0</th>\n",
       "      <td>0</td>\n",
       "      <td>C1093826151</td>\n",
       "      <td>4</td>\n",
       "      <td>M</td>\n",
       "      <td>28007</td>\n",
       "      <td>M348934600</td>\n",
       "      <td>28007</td>\n",
       "      <td>es_transportation</td>\n",
       "      <td>4.55</td>\n",
       "      <td>False</td>\n",
       "    </tr>\n",
       "    <tr>\n",
       "      <th>1</th>\n",
       "      <td>0</td>\n",
       "      <td>C352968107</td>\n",
       "      <td>2</td>\n",
       "      <td>M</td>\n",
       "      <td>28007</td>\n",
       "      <td>M348934600</td>\n",
       "      <td>28007</td>\n",
       "      <td>es_transportation</td>\n",
       "      <td>39.68</td>\n",
       "      <td>False</td>\n",
       "    </tr>\n",
       "    <tr>\n",
       "      <th>2</th>\n",
       "      <td>0</td>\n",
       "      <td>C2054744914</td>\n",
       "      <td>4</td>\n",
       "      <td>F</td>\n",
       "      <td>28007</td>\n",
       "      <td>M1823072687</td>\n",
       "      <td>28007</td>\n",
       "      <td>es_transportation</td>\n",
       "      <td>26.89</td>\n",
       "      <td>False</td>\n",
       "    </tr>\n",
       "    <tr>\n",
       "      <th>3</th>\n",
       "      <td>0</td>\n",
       "      <td>C1760612790</td>\n",
       "      <td>3</td>\n",
       "      <td>M</td>\n",
       "      <td>28007</td>\n",
       "      <td>M348934600</td>\n",
       "      <td>28007</td>\n",
       "      <td>es_transportation</td>\n",
       "      <td>17.25</td>\n",
       "      <td>False</td>\n",
       "    </tr>\n",
       "    <tr>\n",
       "      <th>4</th>\n",
       "      <td>0</td>\n",
       "      <td>C757503768</td>\n",
       "      <td>5</td>\n",
       "      <td>M</td>\n",
       "      <td>28007</td>\n",
       "      <td>M348934600</td>\n",
       "      <td>28007</td>\n",
       "      <td>es_transportation</td>\n",
       "      <td>35.72</td>\n",
       "      <td>False</td>\n",
       "    </tr>\n",
       "  </tbody>\n",
       "</table>\n",
       "</div>"
      ],
      "text/plain": [
       "   step     customer age gender zipcodeori     merchant zipmerchant  \\\n",
       "0     0  C1093826151   4      M      28007   M348934600       28007   \n",
       "1     0   C352968107   2      M      28007   M348934600       28007   \n",
       "2     0  C2054744914   4      F      28007  M1823072687       28007   \n",
       "3     0  C1760612790   3      M      28007   M348934600       28007   \n",
       "4     0   C757503768   5      M      28007   M348934600       28007   \n",
       "\n",
       "            category  amount  fraud  \n",
       "0  es_transportation    4.55  False  \n",
       "1  es_transportation   39.68  False  \n",
       "2  es_transportation   26.89  False  \n",
       "3  es_transportation   17.25  False  \n",
       "4  es_transportation   35.72  False  "
      ]
     },
     "execution_count": 31,
     "metadata": {},
     "output_type": "execute_result"
    }
   ],
   "source": [
    "# Remove single quotes\n",
    "customers_df = pandas_db_server_fetch('''SELECT * FROM customers;''')\n",
    "customers_df = customers_df.map(lambda x: x.replace(\"'\",\"\") if isinstance(x, str) else x)\n",
    "customers_df.head()"
   ]
  },
  {
   "cell_type": "markdown",
   "metadata": {},
   "source": [
    "#### Check for missing value and decide the primary key"
   ]
  },
  {
   "cell_type": "code",
   "execution_count": 54,
   "metadata": {},
   "outputs": [
    {
     "data": {
      "text/plain": [
       "594643"
      ]
     },
     "execution_count": 54,
     "metadata": {},
     "output_type": "execute_result"
    }
   ],
   "source": [
    "# Count number of row of the customers table\n",
    "customers_df.shape[0]"
   ]
  },
  {
   "cell_type": "code",
   "execution_count": 35,
   "metadata": {},
   "outputs": [
    {
     "data": {
      "text/plain": [
       "step           0\n",
       "customer       0\n",
       "age            0\n",
       "gender         0\n",
       "zipcodeori     0\n",
       "merchant       0\n",
       "zipmerchant    0\n",
       "category       0\n",
       "amount         0\n",
       "fraud          0\n",
       "dtype: int64"
      ]
     },
     "execution_count": 35,
     "metadata": {},
     "output_type": "execute_result"
    }
   ],
   "source": [
    "# Check missing value\n",
    "customers_df.isna().sum()"
   ]
  },
  {
   "cell_type": "code",
   "execution_count": 111,
   "metadata": {},
   "outputs": [
    {
     "name": "stdout",
     "output_type": "stream",
     "text": [
      "Distinct value counts for each column:\n",
      "step             180\n",
      "customer        4100\n",
      "age                7\n",
      "gender             2\n",
      "zipcodeori         1\n",
      "merchant          50\n",
      "zipmerchant        1\n",
      "category          15\n",
      "amount         23735\n",
      "fraud              2\n",
      "dtype: int64\n"
     ]
    }
   ],
   "source": [
    "# Check for unique value to decide the primary key\n",
    "distinct_counts = customers_df.nunique()\n",
    "print(\"Distinct value counts for each column:\")\n",
    "print(distinct_counts)"
   ]
  },
  {
   "cell_type": "markdown",
   "metadata": {},
   "source": [
    "As there's no unique column inside the customers data, we need to add a new column that will acts as the primary key."
   ]
  },
  {
   "cell_type": "markdown",
   "metadata": {},
   "source": [
    "#### Change the data type"
   ]
  },
  {
   "cell_type": "code",
   "execution_count": 112,
   "metadata": {},
   "outputs": [
    {
     "name": "stdout",
     "output_type": "stream",
     "text": [
      "step              int64\n",
      "customer         object\n",
      "age               int64\n",
      "gender         category\n",
      "zipcodeori        int64\n",
      "merchant         object\n",
      "zipmerchant       int64\n",
      "category         object\n",
      "amount          float64\n",
      "fraud              bool\n",
      "dtype: object\n"
     ]
    }
   ],
   "source": [
    "# Check column type\n",
    "print(customers_df.dtypes)"
   ]
  },
  {
   "cell_type": "markdown",
   "metadata": {},
   "source": [
    "We need to change the `age` column to integer, `gender` to category, `zipcodeori` to integer, and `zipmerchant` to integer."
   ]
  },
  {
   "cell_type": "code",
   "execution_count": 113,
   "metadata": {},
   "outputs": [
    {
     "name": "stdout",
     "output_type": "stream",
     "text": [
      "Series([], Name: count, dtype: int64)\n"
     ]
    }
   ],
   "source": [
    "# Check for non-integer values in column 'age'\n",
    "non_integer_values = customers_df[~customers_df['age'].astype(str).str.isdigit()]\n",
    "print(non_integer_values.value_counts())"
   ]
  },
  {
   "cell_type": "code",
   "execution_count": 58,
   "metadata": {},
   "outputs": [
    {
     "name": "stdout",
     "output_type": "stream",
     "text": [
      "Invalid gender values found in the 'gender' column:\n",
      "step  customer     age  gender  zipcodeori  merchant     zipmerchant  category           amount  fraud  customerid\n",
      "0     C1374607221  U    E       28007       M1823072687  28007        es_transportation  17.47   False  2094          1\n",
      "124   C914000857   U    E       28007       M1823072687  28007        es_transportation  18.71   False  390124        1\n",
      "127   C1215440829  U    E       28007       M348934600   28007        es_transportation  30.77   False  403337        1\n",
      "      C1152835627  U    E       28007       M1823072687  28007        es_transportation  51.56   False  401663        1\n",
      "126   C935791733   3    U       28007       M1823072687  28007        es_transportation  29.98   False  398952        1\n",
      "                                                                                                                     ..\n",
      "71    C1374607221  U    E       28007       M348934600   28007        es_transportation  42.64   False  210132        1\n",
      "      C1215440829  U    E       28007       M348934600   28007        es_transportation  13.50   False  209515        1\n",
      "70    C935791733   3    U       28007       M840466850   28007        es_tech            176.24  False  205070        1\n",
      "                                            M1416436880  28007        es_tech            129.61  False  205071        1\n",
      "179   C914000857   U    E       28007       M85975013    28007        es_food            22.58   False  594613        1\n",
      "Name: count, Length: 1693, dtype: int64\n"
     ]
    }
   ],
   "source": [
    "# Check for invalid gender other than 'F' or 'M'\n",
    "invalid_gender_values = customers_df[~customers_df['gender'].isin(['F', 'M'])]\n",
    "\n",
    "if not invalid_gender_values.empty:\n",
    "    print(\"Invalid gender values found in the 'gender' column:\")\n",
    "    print(invalid_gender_values.value_counts())\n",
    "else:\n",
    "    print(\"No invalid gender values found in the 'gender' column.\")"
   ]
  },
  {
   "cell_type": "markdown",
   "metadata": {},
   "source": [
    "As we found 1178 invalid age value and 1693 invalid gender value, we need to remove them from the data."
   ]
  },
  {
   "cell_type": "code",
   "execution_count": 63,
   "metadata": {},
   "outputs": [
    {
     "data": {
      "text/plain": [
       "0"
      ]
     },
     "execution_count": 63,
     "metadata": {},
     "output_type": "execute_result"
    }
   ],
   "source": [
    "# Remove invalid 'age' values\n",
    "# Convert 'age' column to numeric, coerce errors to NaN\n",
    "customers_df['age'] = pd.to_numeric(customers_df['age'].astype(int), errors='coerce')\n",
    "\n",
    "# Filter out rows with invalid age values\n",
    "customers_df = customers_df.dropna(subset=['age'])\n",
    "\n",
    "# Check for non-numeric values in column 'age'\n",
    "customers_df['age'].isna().sum()"
   ]
  },
  {
   "cell_type": "code",
   "execution_count": 65,
   "metadata": {},
   "outputs": [
    {
     "name": "stdout",
     "output_type": "stream",
     "text": [
      "Series([], Name: count, dtype: int64)\n"
     ]
    }
   ],
   "source": [
    "# Filter out rows with invalid gender values\n",
    "customers_df = customers_df[customers_df['gender'].isin(['F', 'M'])]\n",
    "\n",
    "# Check for invalid gender values\n",
    "invalid_gender_values = customers_df[~customers_df['gender'].isin(['F', 'M'])]\n",
    "print(invalid_gender_values.value_counts())"
   ]
  },
  {
   "cell_type": "code",
   "execution_count": 67,
   "metadata": {},
   "outputs": [],
   "source": [
    "# Change gender column type to category\n",
    "customers_df['gender'] = customers_df['gender'].astype('category')"
   ]
  },
  {
   "cell_type": "code",
   "execution_count": 69,
   "metadata": {},
   "outputs": [],
   "source": [
    "# Change zip number type to integer\n",
    "customers_df['zipcodeori'] = customers_df['zipcodeori'].astype(int)\n",
    "customers_df['zipmerchant'] = customers_df['zipmerchant'].astype(int)"
   ]
  },
  {
   "cell_type": "code",
   "execution_count": 114,
   "metadata": {},
   "outputs": [
    {
     "name": "stdout",
     "output_type": "stream",
     "text": [
      "step              int64\n",
      "customer         object\n",
      "age               int64\n",
      "gender         category\n",
      "zipcodeori        int64\n",
      "merchant         object\n",
      "zipmerchant       int64\n",
      "category         object\n",
      "amount          float64\n",
      "fraud              bool\n",
      "dtype: object\n"
     ]
    }
   ],
   "source": [
    "# Check column type\n",
    "print(customers_df.dtypes)"
   ]
  },
  {
   "cell_type": "markdown",
   "metadata": {},
   "source": [
    "### Transformation for `transactions` table"
   ]
  },
  {
   "cell_type": "markdown",
   "metadata": {},
   "source": [
    "#### Remove single quote from the data"
   ]
  },
  {
   "cell_type": "code",
   "execution_count": 72,
   "metadata": {},
   "outputs": [
    {
     "name": "stderr",
     "output_type": "stream",
     "text": [
      "/var/folders/g4/h69xmlc14xnfwwjc9t_q574w0000gn/T/ipykernel_91218/105032297.py:7: UserWarning: pandas only supports SQLAlchemy connectable (engine/connection) or database string URI or sqlite3 DBAPI2 connection. Other DBAPI2 objects are not tested. Please consider using SQLAlchemy.\n",
      "  df = pd.read_sql(sql_query, cxn)\n"
     ]
    },
    {
     "name": "stdout",
     "output_type": "stream",
     "text": [
      "PostgreSQL connection is closed\n"
     ]
    },
    {
     "data": {
      "text/html": [
       "<div>\n",
       "<style scoped>\n",
       "    .dataframe tbody tr th:only-of-type {\n",
       "        vertical-align: middle;\n",
       "    }\n",
       "\n",
       "    .dataframe tbody tr th {\n",
       "        vertical-align: top;\n",
       "    }\n",
       "\n",
       "    .dataframe thead th {\n",
       "        text-align: right;\n",
       "    }\n",
       "</style>\n",
       "<table border=\"1\" class=\"dataframe\">\n",
       "  <thead>\n",
       "    <tr style=\"text-align: right;\">\n",
       "      <th></th>\n",
       "      <th>source</th>\n",
       "      <th>target</th>\n",
       "      <th>weight</th>\n",
       "      <th>typetrans</th>\n",
       "      <th>fraud</th>\n",
       "    </tr>\n",
       "  </thead>\n",
       "  <tbody>\n",
       "    <tr>\n",
       "      <th>0</th>\n",
       "      <td>C1093826151</td>\n",
       "      <td>M348934600</td>\n",
       "      <td>4.55</td>\n",
       "      <td>es_transportation</td>\n",
       "      <td>False</td>\n",
       "    </tr>\n",
       "    <tr>\n",
       "      <th>1</th>\n",
       "      <td>C352968107</td>\n",
       "      <td>M348934600</td>\n",
       "      <td>39.68</td>\n",
       "      <td>es_transportation</td>\n",
       "      <td>False</td>\n",
       "    </tr>\n",
       "    <tr>\n",
       "      <th>2</th>\n",
       "      <td>C2054744914</td>\n",
       "      <td>M1823072687</td>\n",
       "      <td>26.89</td>\n",
       "      <td>es_transportation</td>\n",
       "      <td>False</td>\n",
       "    </tr>\n",
       "    <tr>\n",
       "      <th>3</th>\n",
       "      <td>C1760612790</td>\n",
       "      <td>M348934600</td>\n",
       "      <td>17.25</td>\n",
       "      <td>es_transportation</td>\n",
       "      <td>False</td>\n",
       "    </tr>\n",
       "    <tr>\n",
       "      <th>4</th>\n",
       "      <td>C757503768</td>\n",
       "      <td>M348934600</td>\n",
       "      <td>35.72</td>\n",
       "      <td>es_transportation</td>\n",
       "      <td>False</td>\n",
       "    </tr>\n",
       "  </tbody>\n",
       "</table>\n",
       "</div>"
      ],
      "text/plain": [
       "        source       target  weight          typetrans  fraud\n",
       "0  C1093826151   M348934600    4.55  es_transportation  False\n",
       "1   C352968107   M348934600   39.68  es_transportation  False\n",
       "2  C2054744914  M1823072687   26.89  es_transportation  False\n",
       "3  C1760612790   M348934600   17.25  es_transportation  False\n",
       "4   C757503768   M348934600   35.72  es_transportation  False"
      ]
     },
     "execution_count": 72,
     "metadata": {},
     "output_type": "execute_result"
    }
   ],
   "source": [
    "# Remove single quotes\n",
    "transactions_df = pandas_db_server_fetch('''SELECT * FROM transactions;''')\n",
    "transactions_df = transactions_df.map(lambda x: x.replace(\"'\",\"\") if isinstance(x, str) else x)\n",
    "transactions_df.head()"
   ]
  },
  {
   "cell_type": "markdown",
   "metadata": {},
   "source": [
    "#### Check for missing value and decide the primary key"
   ]
  },
  {
   "cell_type": "code",
   "execution_count": 73,
   "metadata": {},
   "outputs": [
    {
     "data": {
      "text/plain": [
       "594643"
      ]
     },
     "execution_count": 73,
     "metadata": {},
     "output_type": "execute_result"
    }
   ],
   "source": [
    "# Count the number of row of the transactions table\n",
    "transactions_df.shape[0]"
   ]
  },
  {
   "cell_type": "code",
   "execution_count": 74,
   "metadata": {},
   "outputs": [
    {
     "data": {
      "text/plain": [
       "source       0\n",
       "target       0\n",
       "weight       0\n",
       "typetrans    0\n",
       "fraud        0\n",
       "dtype: int64"
      ]
     },
     "execution_count": 74,
     "metadata": {},
     "output_type": "execute_result"
    }
   ],
   "source": [
    "# Check missing value\n",
    "transactions_df.isna().sum()"
   ]
  },
  {
   "cell_type": "code",
   "execution_count": 76,
   "metadata": {},
   "outputs": [
    {
     "name": "stdout",
     "output_type": "stream",
     "text": [
      "Distinct value counts for each column:\n",
      "source        4112\n",
      "target          50\n",
      "weight       23767\n",
      "typetrans       15\n",
      "fraud            2\n",
      "dtype: int64\n"
     ]
    }
   ],
   "source": [
    "# Check for unique value to decide the primary key\n",
    "distinct_counts = transactions_df.nunique()\n",
    "print(\"Distinct value counts for each column:\")\n",
    "print(distinct_counts)"
   ]
  },
  {
   "cell_type": "markdown",
   "metadata": {},
   "source": [
    "#### Change the data type"
   ]
  },
  {
   "cell_type": "code",
   "execution_count": 80,
   "metadata": {},
   "outputs": [
    {
     "name": "stdout",
     "output_type": "stream",
     "text": [
      "source            object\n",
      "target            object\n",
      "weight           float64\n",
      "typetrans         object\n",
      "fraud               bool\n",
      "transactionid      int64\n",
      "dtype: object\n"
     ]
    }
   ],
   "source": [
    "# Check column type\n",
    "print(transactions_df.dtypes)"
   ]
  },
  {
   "cell_type": "code",
   "execution_count": 83,
   "metadata": {},
   "outputs": [
    {
     "data": {
      "text/plain": [
       "typetrans\n",
       "es_transportation        505119\n",
       "es_food                   26254\n",
       "es_health                 16133\n",
       "es_wellnessandbeauty      15086\n",
       "es_fashion                 6454\n",
       "es_barsandrestaurants      6373\n",
       "es_hyper                   6098\n",
       "es_sportsandtoys           4002\n",
       "es_tech                    2370\n",
       "es_home                    1986\n",
       "es_hotelservices           1744\n",
       "es_otherservices            912\n",
       "es_contents                 885\n",
       "es_travel                   728\n",
       "es_leisure                  499\n",
       "Name: count, dtype: int64"
      ]
     },
     "execution_count": 83,
     "metadata": {},
     "output_type": "execute_result"
    }
   ],
   "source": [
    "# Count the number of each occurences in column 'typetrans'\n",
    "transactions_df['typetrans'].value_counts()"
   ]
  },
  {
   "cell_type": "code",
   "execution_count": 85,
   "metadata": {},
   "outputs": [
    {
     "name": "stderr",
     "output_type": "stream",
     "text": [
      "/var/folders/g4/h69xmlc14xnfwwjc9t_q574w0000gn/T/ipykernel_91218/1132446275.py:3: UserWarning: Boolean Series key will be reindexed to match DataFrame index.\n",
      "  customers_df[numeric_weight.isna()].value_counts()\n"
     ]
    },
    {
     "data": {
      "text/plain": [
       "Series([], Name: count, dtype: int64)"
      ]
     },
     "execution_count": 85,
     "metadata": {},
     "output_type": "execute_result"
    }
   ],
   "source": [
    "# Check for invalid values in column weight\n",
    "numeric_weight = pd.to_numeric(transactions_df['weight'], errors='coerce')\n",
    "customers_df[numeric_weight.isna()].value_counts()"
   ]
  },
  {
   "cell_type": "markdown",
   "metadata": {},
   "source": [
    "### Update data in SQL database"
   ]
  },
  {
   "cell_type": "code",
   "execution_count": 135,
   "metadata": {},
   "outputs": [],
   "source": [
    "customers_df.to_csv('updated_customers.csv', index=False)"
   ]
  },
  {
   "cell_type": "code",
   "execution_count": 136,
   "metadata": {},
   "outputs": [
    {
     "name": "stdout",
     "output_type": "stream",
     "text": [
      "PostgreSQL connection is closed\n",
      "customers table populated\n"
     ]
    }
   ],
   "source": [
    "try:\n",
    "    # Create connection to banksim_db\n",
    "    cxn = psycopg2.connect(CONNECT_DB)\n",
    "\n",
    "    # Create a cursor to db\n",
    "    cur = cxn.cursor()\n",
    "\n",
    "    with open('./updated_customers.csv', 'r') as c:\n",
    "        # Skip first row due to header row\n",
    "        next(c)\n",
    "        cur.copy_from(c, 'customers', sep=',')\n",
    "        cxn.commit()\n",
    "\n",
    "except (Exception, psycopg2.Error) as error:\n",
    "    print(\"Error while connecting to PostgreSQL\", error)\n",
    "\n",
    "finally:\n",
    "    # Closing database connection\n",
    "    if (cxn):\n",
    "        cur.close()\n",
    "        cxn.close()\n",
    "        print(\"PostgreSQL connection is closed\")\n",
    "        print(\"customers table populated\")"
   ]
  },
  {
   "cell_type": "code",
   "execution_count": 137,
   "metadata": {},
   "outputs": [
    {
     "name": "stderr",
     "output_type": "stream",
     "text": [
      "/var/folders/g4/h69xmlc14xnfwwjc9t_q574w0000gn/T/ipykernel_91218/105032297.py:7: UserWarning: pandas only supports SQLAlchemy connectable (engine/connection) or database string URI or sqlite3 DBAPI2 connection. Other DBAPI2 objects are not tested. Please consider using SQLAlchemy.\n",
      "  df = pd.read_sql(sql_query, cxn)\n"
     ]
    },
    {
     "name": "stdout",
     "output_type": "stream",
     "text": [
      "PostgreSQL connection is closed\n",
      "   step     customer age gender zipcodeori     merchant zipmerchant  \\\n",
      "0     0  C1093826151   4      M      28007   M348934600       28007   \n",
      "1     0   C352968107   2      M      28007   M348934600       28007   \n",
      "2     0  C2054744914   4      F      28007  M1823072687       28007   \n",
      "3     0  C1760612790   3      M      28007   M348934600       28007   \n",
      "4     0   C757503768   5      M      28007   M348934600       28007   \n",
      "\n",
      "            category  amount  fraud  \n",
      "0  es_transportation    4.55  False  \n",
      "1  es_transportation   39.68  False  \n",
      "2  es_transportation   26.89  False  \n",
      "3  es_transportation   17.25  False  \n",
      "4  es_transportation   35.72  False  \n"
     ]
    }
   ],
   "source": [
    "query = '''SELECT * FROM customers;'''\n",
    "print(pandas_db_server_fetch(query).head())"
   ]
  },
  {
   "cell_type": "code",
   "execution_count": 144,
   "metadata": {},
   "outputs": [],
   "source": [
    "transactions_df.to_csv('updated_transactions.csv', index=False)"
   ]
  },
  {
   "cell_type": "code",
   "execution_count": 141,
   "metadata": {},
   "outputs": [
    {
     "name": "stdout",
     "output_type": "stream",
     "text": [
      "PostgreSQL connection is closed\n",
      "Records:\n",
      " None\n"
     ]
    }
   ],
   "source": [
    "# Delete all data in transactions table\n",
    "try:\n",
    "    # Create connection to banksim_db\n",
    "    cxn = psycopg2.connect(CONNECT_DB)\n",
    "\n",
    "    # Create a cursor to db\n",
    "    cur = cxn.cursor()\n",
    "\n",
    "    # Send SQL query to request\n",
    "    cur.execute(\"DELETE FROM transactions\")\n",
    "    records = cxn.commit()\n",
    "\n",
    "except (Exception, psycopg2.Error) as error :\n",
    "    print(\"Error while connecting to PostgreSQL\", error)\n",
    "\n",
    "finally:\n",
    "    # Closing database connection\n",
    "    if(cxn):\n",
    "        cur.close()\n",
    "        cxn.close()\n",
    "        print(\"PostgreSQL connection is closed\")\n",
    "\n",
    "print(f'Records:\\n {records}')"
   ]
  },
  {
   "cell_type": "code",
   "execution_count": 145,
   "metadata": {},
   "outputs": [
    {
     "name": "stdout",
     "output_type": "stream",
     "text": [
      "PostgreSQL connection is closed\n",
      "transactions table is populated\n"
     ]
    }
   ],
   "source": [
    "try:\n",
    "    # Create connection to banksim_db\n",
    "    cxn = psycopg2.connect(CONNECT_DB)\n",
    "\n",
    "    # Create a cursor to db\n",
    "    cur = cxn.cursor()\n",
    "\n",
    "    with open('./updated_transactions.csv', 'r') as c:\n",
    "        # Skip first row due to header row\n",
    "        next(c)\n",
    "        cur.copy_from(c, 'transactions', sep=',')\n",
    "        cxn.commit()\n",
    "\n",
    "except (Exception, psycopg2.Error) as error:\n",
    "    print(\"Error while connecting to PostgreSQL\", error)\n",
    "\n",
    "finally:\n",
    "    # Closing database connection\n",
    "    if (cxn):\n",
    "        cur.close()\n",
    "        cxn.close()\n",
    "        print(\"PostgreSQL connection is closed\")\n",
    "        print(\"transactions table is populated\")"
   ]
  },
  {
   "cell_type": "code",
   "execution_count": 146,
   "metadata": {},
   "outputs": [
    {
     "name": "stderr",
     "output_type": "stream",
     "text": [
      "/var/folders/g4/h69xmlc14xnfwwjc9t_q574w0000gn/T/ipykernel_91218/105032297.py:7: UserWarning: pandas only supports SQLAlchemy connectable (engine/connection) or database string URI or sqlite3 DBAPI2 connection. Other DBAPI2 objects are not tested. Please consider using SQLAlchemy.\n",
      "  df = pd.read_sql(sql_query, cxn)\n"
     ]
    },
    {
     "name": "stdout",
     "output_type": "stream",
     "text": [
      "PostgreSQL connection is closed\n",
      "        source       target  weight          typetrans  fraud\n",
      "0  C1093826151   M348934600    4.55  es_transportation  False\n",
      "1   C352968107   M348934600   39.68  es_transportation  False\n",
      "2  C2054744914  M1823072687   26.89  es_transportation  False\n",
      "3  C1760612790   M348934600   17.25  es_transportation  False\n",
      "4   C757503768   M348934600   35.72  es_transportation  False\n"
     ]
    }
   ],
   "source": [
    "query = '''SELECT * FROM transactions;'''\n",
    "print(pandas_db_server_fetch(query).head())"
   ]
  }
 ],
 "metadata": {
  "kernelspec": {
   "display_name": "myenv",
   "language": "python",
   "name": "myenv"
  },
  "language_info": {
   "codemirror_mode": {
    "name": "ipython",
    "version": 3
   },
   "file_extension": ".py",
   "mimetype": "text/x-python",
   "name": "python",
   "nbconvert_exporter": "python",
   "pygments_lexer": "ipython3",
   "version": "3.12.2"
  }
 },
 "nbformat": 4,
 "nbformat_minor": 2
}
