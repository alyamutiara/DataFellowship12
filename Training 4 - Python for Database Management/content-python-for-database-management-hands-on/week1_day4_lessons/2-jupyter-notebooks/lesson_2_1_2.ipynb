{
 "cells": [
  {
   "cell_type": "markdown",
   "metadata": {},
   "source": [
    "   # Markdown Cell\n",
    "\n",
    "   - It is designed to allow for text explanations\n",
    "   - Can be used to create intricate layout including tables with extra packages\n",
    "   - Can create ordered and unordered lists\n",
    "   - Can create code snippets\n",
    "   - This is the *[Markdown Guide](https://www.markdownguide.org)*."
   ]
  },
  {
   "cell_type": "code",
   "execution_count": null,
   "metadata": {},
   "outputs": [],
   "source": [
    "for i in range(5):\n",
    "    print(i)"
   ]
  },
  {
   "cell_type": "markdown",
   "metadata": {},
   "source": [
    "**Before evaluating the cell think about these two questions.**\n",
    "\n",
    "  1. What is going to be the result of evaluating this cell?\n",
    "  1. What will be the output?"
   ]
  },
  {
   "cell_type": "code",
   "execution_count": null,
   "metadata": {},
   "outputs": [],
   "source": [
    "a = 'pears'\n",
    "b = 'bananas'\n",
    "x = 8\n",
    "y = -23"
   ]
  },
  {
   "cell_type": "markdown",
   "metadata": {},
   "source": [
    "There was no output because all the cell does is assign values to variables; there are no print statements or return statements."
   ]
  },
  {
   "cell_type": "code",
   "execution_count": null,
   "metadata": {},
   "outputs": [],
   "source": [
    "print(f\"a = {a}\")\n",
    "print(f\"b = {b}\")\n",
    "print(f\"x = {x}\")\n",
    "print(f\"y = {y}\")"
   ]
  },
  {
   "cell_type": "code",
   "execution_count": null,
   "metadata": {},
   "outputs": [],
   "source": [
    "print(f\"x * a = {a*x}\")"
   ]
  },
  {
   "cell_type": "code",
   "execution_count": null,
   "metadata": {},
   "outputs": [],
   "source": [
    "import math\n",
    "\n",
    "def get_sqr_root(x):\n",
    "    return print(f\"The square root of {x} is {math.sqrt(x)}\")"
   ]
  },
  {
   "cell_type": "code",
   "execution_count": null,
   "metadata": {},
   "outputs": [],
   "source": [
    "get_sqr_root(8)"
   ]
  },
  {
   "cell_type": "markdown",
   "metadata": {},
   "source": [
    "Now we are going to examine the changes made in previous cells. In the cell where variables were assigned change `a = \"apples\"` to `a = \"pears\"`.  Don't forget to re-evaluate the cell.\n",
    "\n",
    "**Consider the following questions:**\n",
    "1. Why were the cells after this cell not changed?  \n",
    "1. What is the value of `a`?\n",
    "1. What will happen if we re-evaluate the cell where be multiply `a` and `x`, but not the cell where we print the value of `a`?"
   ]
  },
  {
   "cell_type": "code",
   "execution_count": null,
   "metadata": {},
   "outputs": [],
   "source": [
    "get_sqr_root(16)"
   ]
  },
  {
   "cell_type": "code",
   "execution_count": null,
   "metadata": {},
   "outputs": [],
   "source": [
    "get_sqr_root(100)"
   ]
  },
  {
   "cell_type": "code",
   "execution_count": null,
   "metadata": {},
   "outputs": [],
   "source": [
    "# imports and matplotlib setup\n",
    "import matplotlib.pyplot as plt\n",
    "import numpy as np\n",
    "%matplotlib inline\n",
    "\n",
    "# set x to be 0 to 4+pi in .1 increments\n",
    "x = np.arange(0,4*np.pi,0.1)\n",
    "\n",
    "# the sine and cosine values\n",
    "y = np.sin(x)\n",
    "z = np.cos(x)\n",
    "\n",
    "# plot them\n",
    "plt.plot(x,y,x,z)\n",
    "plt.show()"
   ]
  }
 ],
 "metadata": {
  "kernelspec": {
   "display_name": "Python 3",
   "language": "python",
   "name": "python3"
  },
  "language_info": {
   "codemirror_mode": {
    "name": "ipython",
    "version": 3
   },
   "file_extension": ".py",
   "mimetype": "text/x-python",
   "name": "python",
   "nbconvert_exporter": "python",
   "pygments_lexer": "ipython3",
   "version": "3.7.6"
  }
 },
 "nbformat": 4,
 "nbformat_minor": 4
}
